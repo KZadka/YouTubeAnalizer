{
 "cells": [
  {
   "cell_type": "code",
   "execution_count": 3,
   "metadata": {},
   "outputs": [],
   "source": [
    "from googleapiclient.discovery import build\n",
    "import pandas as pd\n",
    "import seaborn as sns\n",
    "import matplotlib.pyplot as plt"
   ]
  },
  {
   "cell_type": "code",
   "execution_count": 4,
   "metadata": {},
   "outputs": [],
   "source": [
    "with open('C:/Users/kzadk/OneDrive/Desktop/YT_api_key.txt') as f:\n",
    "    key = f.read()\n",
    "\n",
    "api_key = key\n",
    "api_service_name = 'youtube'\n",
    "api_version = 'v3' \n",
    "\n",
    "youtube = build(api_service_name, api_version, developerKey=api_key)\n",
    "\n",
    "# List of ids of channels that we picked for analyze\n",
    "channel_ids = ['UCCezIgC97PvUuR4_gbFUs5g', # Corey Shafer\n",
    "               'UCcIXc5mJsHVYTZR1maL5l9w', # DeepLearningAI\n",
    "               'UCr8O8l5cCX85Oem1d18EezQ', # DanielBourke\n",
    "               'UCfzlCWGWYyIQ0aLC5w48gBQ', # Sentdex\n",
    "               'UCtYLUTtgS3k1Fg4y5tAhLbw', # StatQuest\n",
    "               'UCYO_jab_esuFRV4b17AJtAw' # 3Blue1Brown\n",
    "               ]\n"
   ]
  },
  {
   "attachments": {},
   "cell_type": "markdown",
   "metadata": {},
   "source": [
    "### Function to get desired channels statistics\n"
   ]
  },
  {
   "cell_type": "code",
   "execution_count": 5,
   "metadata": {},
   "outputs": [],
   "source": [
    "def get_channel_stats(youtube, channel_ids):\n",
    "    all_data = []\n",
    "    request = youtube.channels().list(\n",
    "        part = 'snippet, contentDetails, statistics',\n",
    "        id = ','.join(channel_ids))\n",
    "    response = request.execute()\n",
    "    \n",
    "    for i in range(len(response['items'])):\n",
    "        data = dict(Channel_name = response['items'][i]['snippet']['title'],\n",
    "                    Subscribers = response['items'][i]['statistics']['subscriberCount'],\n",
    "                    Views = response['items'][i]['statistics']['viewCount'],\n",
    "                    playlist_id = response['items'][i]['contentDetails']['relatedPlaylists']['uploads'])\n",
    "        all_data.append(data)\n",
    "\n",
    "    return all_data"
   ]
  },
  {
   "cell_type": "code",
   "execution_count": 6,
   "metadata": {},
   "outputs": [],
   "source": [
    "data = get_channel_stats(youtube, channel_ids)"
   ]
  },
  {
   "cell_type": "code",
   "execution_count": 7,
   "metadata": {},
   "outputs": [
    {
     "data": {
      "text/plain": [
       "6"
      ]
     },
     "execution_count": 7,
     "metadata": {},
     "output_type": "execute_result"
    }
   ],
   "source": [
    "len(data)"
   ]
  },
  {
   "cell_type": "code",
   "execution_count": 8,
   "metadata": {},
   "outputs": [],
   "source": [
    "yt_data = pd.DataFrame(data)"
   ]
  },
  {
   "cell_type": "code",
   "execution_count": 9,
   "metadata": {},
   "outputs": [
    {
     "data": {
      "text/html": [
       "<div>\n",
       "<style scoped>\n",
       "    .dataframe tbody tr th:only-of-type {\n",
       "        vertical-align: middle;\n",
       "    }\n",
       "\n",
       "    .dataframe tbody tr th {\n",
       "        vertical-align: top;\n",
       "    }\n",
       "\n",
       "    .dataframe thead th {\n",
       "        text-align: right;\n",
       "    }\n",
       "</style>\n",
       "<table border=\"1\" class=\"dataframe\">\n",
       "  <thead>\n",
       "    <tr style=\"text-align: right;\">\n",
       "      <th></th>\n",
       "      <th>Channel_name</th>\n",
       "      <th>Subscribers</th>\n",
       "      <th>Views</th>\n",
       "      <th>playlist_id</th>\n",
       "    </tr>\n",
       "  </thead>\n",
       "  <tbody>\n",
       "    <tr>\n",
       "      <th>0</th>\n",
       "      <td>DeepLearningAI</td>\n",
       "      <td>231000</td>\n",
       "      <td>14646197</td>\n",
       "      <td>UUcIXc5mJsHVYTZR1maL5l9w</td>\n",
       "    </tr>\n",
       "    <tr>\n",
       "      <th>1</th>\n",
       "      <td>Daniel Bourke</td>\n",
       "      <td>156000</td>\n",
       "      <td>7472054</td>\n",
       "      <td>UUr8O8l5cCX85Oem1d18EezQ</td>\n",
       "    </tr>\n",
       "    <tr>\n",
       "      <th>2</th>\n",
       "      <td>3Blue1Brown</td>\n",
       "      <td>5290000</td>\n",
       "      <td>346474843</td>\n",
       "      <td>UUYO_jab_esuFRV4b17AJtAw</td>\n",
       "    </tr>\n",
       "    <tr>\n",
       "      <th>3</th>\n",
       "      <td>StatQuest with Josh Starmer</td>\n",
       "      <td>955000</td>\n",
       "      <td>50842364</td>\n",
       "      <td>UUtYLUTtgS3k1Fg4y5tAhLbw</td>\n",
       "    </tr>\n",
       "    <tr>\n",
       "      <th>4</th>\n",
       "      <td>Corey Schafer</td>\n",
       "      <td>1150000</td>\n",
       "      <td>86964220</td>\n",
       "      <td>UUCezIgC97PvUuR4_gbFUs5g</td>\n",
       "    </tr>\n",
       "    <tr>\n",
       "      <th>5</th>\n",
       "      <td>sentdex</td>\n",
       "      <td>1250000</td>\n",
       "      <td>110546824</td>\n",
       "      <td>UUfzlCWGWYyIQ0aLC5w48gBQ</td>\n",
       "    </tr>\n",
       "  </tbody>\n",
       "</table>\n",
       "</div>"
      ],
      "text/plain": [
       "                  Channel_name Subscribers      Views  \\\n",
       "0               DeepLearningAI      231000   14646197   \n",
       "1                Daniel Bourke      156000    7472054   \n",
       "2                  3Blue1Brown     5290000  346474843   \n",
       "3  StatQuest with Josh Starmer      955000   50842364   \n",
       "4                Corey Schafer     1150000   86964220   \n",
       "5                      sentdex     1250000  110546824   \n",
       "\n",
       "                playlist_id  \n",
       "0  UUcIXc5mJsHVYTZR1maL5l9w  \n",
       "1  UUr8O8l5cCX85Oem1d18EezQ  \n",
       "2  UUYO_jab_esuFRV4b17AJtAw  \n",
       "3  UUtYLUTtgS3k1Fg4y5tAhLbw  \n",
       "4  UUCezIgC97PvUuR4_gbFUs5g  \n",
       "5  UUfzlCWGWYyIQ0aLC5w48gBQ  "
      ]
     },
     "execution_count": 9,
     "metadata": {},
     "output_type": "execute_result"
    }
   ],
   "source": [
    "yt_data"
   ]
  },
  {
   "cell_type": "code",
   "execution_count": 10,
   "metadata": {},
   "outputs": [
    {
     "name": "stdout",
     "output_type": "stream",
     "text": [
      "<class 'pandas.core.frame.DataFrame'>\n",
      "RangeIndex: 6 entries, 0 to 5\n",
      "Data columns (total 4 columns):\n",
      " #   Column        Non-Null Count  Dtype \n",
      "---  ------        --------------  ----- \n",
      " 0   Channel_name  6 non-null      object\n",
      " 1   Subscribers   6 non-null      object\n",
      " 2   Views         6 non-null      object\n",
      " 3   playlist_id   6 non-null      object\n",
      "dtypes: object(4)\n",
      "memory usage: 320.0+ bytes\n"
     ]
    }
   ],
   "source": [
    "yt_data.info()"
   ]
  },
  {
   "attachments": {},
   "cell_type": "markdown",
   "metadata": {},
   "source": [
    "#### Converting data types"
   ]
  },
  {
   "cell_type": "code",
   "execution_count": 11,
   "metadata": {},
   "outputs": [],
   "source": [
    "yt_data['Subscribers'] = pd.to_numeric(yt_data['Subscribers'])\n",
    "yt_data['Views'] = pd.to_numeric(yt_data['Views'])"
   ]
  },
  {
   "cell_type": "code",
   "execution_count": 12,
   "metadata": {},
   "outputs": [
    {
     "name": "stdout",
     "output_type": "stream",
     "text": [
      "<class 'pandas.core.frame.DataFrame'>\n",
      "RangeIndex: 6 entries, 0 to 5\n",
      "Data columns (total 4 columns):\n",
      " #   Column        Non-Null Count  Dtype \n",
      "---  ------        --------------  ----- \n",
      " 0   Channel_name  6 non-null      object\n",
      " 1   Subscribers   6 non-null      int64 \n",
      " 2   Views         6 non-null      int64 \n",
      " 3   playlist_id   6 non-null      object\n",
      "dtypes: int64(2), object(2)\n",
      "memory usage: 320.0+ bytes\n"
     ]
    }
   ],
   "source": [
    "yt_data.info()"
   ]
  },
  {
   "attachments": {},
   "cell_type": "markdown",
   "metadata": {},
   "source": [
    "### Showing plots for numerical data of channels\n"
   ]
  },
  {
   "cell_type": "code",
   "execution_count": 13,
   "metadata": {},
   "outputs": [
    {
     "data": {
      "image/png": "[encoded data removed]",
      "text/plain": [
       "<Figure size 640x480 with 1 Axes>"
      ]
     },
     "metadata": {},
     "output_type": "display_data"
    },
    {
     "data": {
      "image/png": "[encoded data removed]",
      "text/plain": [
       "<Figure size 640x480 with 1 Axes>"
      ]
     },
     "metadata": {},
     "output_type": "display_data"
    }
   ],
   "source": [
    "for column in yt_data.columns:\n",
    "    if yt_data[column].dtype.kind in 'iufc':\n",
    "        sns.barplot(x=yt_data[column], y=yt_data['Channel_name'])\n",
    "        plt.xlabel(column)\n",
    "        plt.ylabel('Channel name')\n",
    "        plt.title(f'Bar plot of {column}')\n",
    "        plt.show()"
   ]
  },
  {
   "attachments": {},
   "cell_type": "markdown",
   "metadata": {},
   "source": [
    "### Function to get ids of videos from specific channel\n"
   ]
  },
  {
   "cell_type": "code",
   "execution_count": 14,
   "metadata": {},
   "outputs": [],
   "source": [
    "playlist_id = yt_data.loc[yt_data['Channel_name'] == '3Blue1Brown', 'playlist_id'].iloc[0]"
   ]
  },
  {
   "cell_type": "code",
   "execution_count": 15,
   "metadata": {},
   "outputs": [
    {
     "data": {
      "text/plain": [
       "'UUYO_jab_esuFRV4b17AJtAw'"
      ]
     },
     "execution_count": 15,
     "metadata": {},
     "output_type": "execute_result"
    }
   ],
   "source": [
    "playlist_id"
   ]
  },
  {
   "cell_type": "code",
   "execution_count": 16,
   "metadata": {},
   "outputs": [],
   "source": [
    "def get_channel_videos_ids(youtube, playlist_id):\n",
    "\n",
    "    request = youtube.playlistItems().list(\n",
    "        part = 'contentDetails',\n",
    "        playlistId = playlist_id,\n",
    "        maxResults = 50)\n",
    "    response = request.execute()\n",
    "\n",
    "    videos_ids = []\n",
    "\n",
    "    for i in range(len(response['items'])):\n",
    "        videos_ids.append(response['items'][i]['contentDetails']['videoId'])\n",
    "\n",
    "    # This section is here becouse of the pagination system(max 50 results per page)\n",
    "    next_page_token = response.get('nextPageToken')\n",
    "    more_pages = True\n",
    "\n",
    "    while more_pages:\n",
    "        if next_page_token is None:\n",
    "            more_pages = False\n",
    "        else:\n",
    "            request = youtube.playlistItems().list(\n",
    "                part = 'contentDetails',\n",
    "                playlistId = playlist_id,\n",
    "                maxResults = 50,\n",
    "                pageToken = next_page_token)\n",
    "            response = request.execute()\n",
    "\n",
    "            for i in range(len(response['items'])):\n",
    "                videos_ids.append(response['items'][i]['contentDetails']['videoId'])\n",
    "\n",
    "            next_page_token = response.get('nextPageToken')\n",
    "    return videos_ids"
   ]
  },
  {
   "cell_type": "code",
   "execution_count": 17,
   "metadata": {},
   "outputs": [],
   "source": [
    "videos_ids = get_channel_videos_ids(youtube, playlist_id)"
   ]
  },
  {
   "cell_type": "code",
   "execution_count": 18,
   "metadata": {},
   "outputs": [
    {
     "data": {
      "text/plain": [
       "131"
      ]
     },
     "execution_count": 18,
     "metadata": {},
     "output_type": "execute_result"
    }
   ],
   "source": [
    "len(videos_ids)"
   ]
  },
  {
   "attachments": {},
   "cell_type": "markdown",
   "metadata": {},
   "source": [
    "### Function to get details of videos"
   ]
  },
  {
   "cell_type": "code",
   "execution_count": 30,
   "metadata": {},
   "outputs": [],
   "source": [
    "def get_videos_details(youtube, videos_ids):\n",
    "\n",
    "    all_video_stats = []\n",
    "\n",
    "    # Again max 50 results, so we are looping using steps\n",
    "    for i in range(0, len(videos_ids), 50):\n",
    "        request = youtube.videos().list(\n",
    "            part = 'snippet, statistics',\n",
    "            id = ','.join(videos_ids[i : i + 50]))\n",
    "        response = request.execute()\n",
    "\n",
    "        for video in response['items']:\n",
    "            video_stats = dict(Title = video['snippet']['title'][: 69],\n",
    "                               Published_date = video['snippet']['publishedAt'],\n",
    "                               Views = video['statistics']['viewCount'],\n",
    "                               Likes = video['statistics']['likeCount'],\n",
    "                               Comments = video['statistics']['commentCount'])\n",
    "            all_video_stats.append(video_stats)\n",
    "\n",
    "    return all_video_stats"
   ]
  },
  {
   "cell_type": "code",
   "execution_count": 31,
   "metadata": {},
   "outputs": [],
   "source": [
    "videos_details = get_videos_details(youtube, videos_ids)"
   ]
  },
  {
   "cell_type": "code",
   "execution_count": 21,
   "metadata": {},
   "outputs": [
    {
     "data": {
      "text/plain": [
       "131"
      ]
     },
     "execution_count": 21,
     "metadata": {},
     "output_type": "execute_result"
    }
   ],
   "source": [
    "len(videos_details)"
   ]
  },
  {
   "cell_type": "code",
   "execution_count": 33,
   "metadata": {},
   "outputs": [],
   "source": [
    "videos_data = pd.DataFrame(videos_details)"
   ]
  },
  {
   "cell_type": "code",
   "execution_count": 34,
   "metadata": {},
   "outputs": [
    {
     "name": "stdout",
     "output_type": "stream",
     "text": [
      "<class 'pandas.core.frame.DataFrame'>\n",
      "RangeIndex: 131 entries, 0 to 130\n",
      "Data columns (total 5 columns):\n",
      " #   Column          Non-Null Count  Dtype \n",
      "---  ------          --------------  ----- \n",
      " 0   Title           131 non-null    object\n",
      " 1   Published_date  131 non-null    object\n",
      " 2   Views           131 non-null    object\n",
      " 3   Likes           131 non-null    object\n",
      " 4   Comments        131 non-null    object\n",
      "dtypes: object(5)\n",
      "memory usage: 5.2+ KB\n"
     ]
    }
   ],
   "source": [
    "videos_data.info()"
   ]
  },
  {
   "attachments": {},
   "cell_type": "markdown",
   "metadata": {},
   "source": [
    "#### Converting data types"
   ]
  },
  {
   "cell_type": "code",
   "execution_count": 35,
   "metadata": {},
   "outputs": [
    {
     "data": {
      "text/plain": [
       "0      2023-07-02T04:41:01Z\n",
       "1      2023-06-28T19:17:11Z\n",
       "2      2023-06-27T15:08:14Z\n",
       "3      2023-04-02T15:30:13Z\n",
       "4      2023-03-14T18:36:36Z\n",
       "               ...         \n",
       "126    2015-08-14T01:20:50Z\n",
       "127    2015-06-21T06:05:43Z\n",
       "128    2015-04-11T08:19:03Z\n",
       "129    2015-03-05T06:15:23Z\n",
       "130    2015-03-05T06:15:22Z\n",
       "Name: Published_date, Length: 131, dtype: object"
      ]
     },
     "execution_count": 35,
     "metadata": {},
     "output_type": "execute_result"
    }
   ],
   "source": [
    "videos_data['Published_date']"
   ]
  },
  {
   "cell_type": "code",
   "execution_count": 36,
   "metadata": {},
   "outputs": [],
   "source": [
    "videos_data['Published_date'] = pd.to_datetime(videos_data['Published_date']).dt.strftime('%Y-%m-%d')\n",
    "videos_data['Published_date'] = pd.to_datetime(videos_data['Published_date'])\n",
    "videos_data['Views'] = pd.to_numeric(videos_data['Views'])\n",
    "videos_data['Likes'] = pd.to_numeric(videos_data['Likes'])\n",
    "videos_data['Comments'] = pd.to_numeric(videos_data['Comments'])"
   ]
  },
  {
   "cell_type": "code",
   "execution_count": 26,
   "metadata": {},
   "outputs": [
    {
     "name": "stdout",
     "output_type": "stream",
     "text": [
      "<class 'pandas.core.frame.DataFrame'>\n",
      "RangeIndex: 131 entries, 0 to 130\n",
      "Data columns (total 5 columns):\n",
      " #   Column          Non-Null Count  Dtype         \n",
      "---  ------          --------------  -----         \n",
      " 0   Title           131 non-null    object        \n",
      " 1   Published_date  131 non-null    datetime64[ns]\n",
      " 2   Views           131 non-null    int64         \n",
      " 3   Likes           131 non-null    int64         \n",
      " 4   Comments        131 non-null    int64         \n",
      "dtypes: datetime64[ns](1), int64(3), object(1)\n",
      "memory usage: 5.2+ KB\n"
     ]
    }
   ],
   "source": [
    "videos_data.info()"
   ]
  },
  {
   "attachments": {},
   "cell_type": "markdown",
   "metadata": {},
   "source": [
    "#### Getting the top 10 videos based on the views"
   ]
  },
  {
   "cell_type": "code",
   "execution_count": 37,
   "metadata": {},
   "outputs": [],
   "source": [
    "top10_videos = videos_data.sort_values(by='Views', ascending=False).head(10)"
   ]
  },
  {
   "cell_type": "code",
   "execution_count": 38,
   "metadata": {},
   "outputs": [
    {
     "data": {
      "text/html": [
       "<div>\n",
       "<style scoped>\n",
       "    .dataframe tbody tr th:only-of-type {\n",
       "        vertical-align: middle;\n",
       "    }\n",
       "\n",
       "    .dataframe tbody tr th {\n",
       "        vertical-align: top;\n",
       "    }\n",
       "\n",
       "    .dataframe thead th {\n",
       "        text-align: right;\n",
       "    }\n",
       "</style>\n",
       "<table border=\"1\" class=\"dataframe\">\n",
       "  <thead>\n",
       "    <tr style=\"text-align: right;\">\n",
       "      <th></th>\n",
       "      <th>Title</th>\n",
       "      <th>Published_date</th>\n",
       "      <th>Views</th>\n",
       "      <th>Likes</th>\n",
       "      <th>Comments</th>\n",
       "    </tr>\n",
       "  </thead>\n",
       "  <tbody>\n",
       "    <tr>\n",
       "      <th>48</th>\n",
       "      <td>But what is a Fourier series?  From heat flow ...</td>\n",
       "      <td>2019-06-30</td>\n",
       "      <td>16569490</td>\n",
       "      <td>160035</td>\n",
       "      <td>3975</td>\n",
       "    </tr>\n",
       "    <tr>\n",
       "      <th>74</th>\n",
       "      <td>The hardest problem on the hardest test</td>\n",
       "      <td>2017-12-08</td>\n",
       "      <td>14913450</td>\n",
       "      <td>390487</td>\n",
       "      <td>20142</td>\n",
       "    </tr>\n",
       "    <tr>\n",
       "      <th>83</th>\n",
       "      <td>But how does bitcoin actually work?</td>\n",
       "      <td>2017-07-07</td>\n",
       "      <td>14907290</td>\n",
       "      <td>344974</td>\n",
       "      <td>28471</td>\n",
       "    </tr>\n",
       "    <tr>\n",
       "      <th>78</th>\n",
       "      <td>But what is a neural network? | Chapter 1, Dee...</td>\n",
       "      <td>2017-10-05</td>\n",
       "      <td>13983928</td>\n",
       "      <td>352546</td>\n",
       "      <td>6736</td>\n",
       "    </tr>\n",
       "    <tr>\n",
       "      <th>55</th>\n",
       "      <td>The most unexpected answer to a counting puzzle</td>\n",
       "      <td>2019-01-13</td>\n",
       "      <td>10836004</td>\n",
       "      <td>279226</td>\n",
       "      <td>5931</td>\n",
       "    </tr>\n",
       "    <tr>\n",
       "      <th>12</th>\n",
       "      <td>Solving Wordle using information theory</td>\n",
       "      <td>2022-02-06</td>\n",
       "      <td>9730865</td>\n",
       "      <td>211006</td>\n",
       "      <td>8724</td>\n",
       "    </tr>\n",
       "    <tr>\n",
       "      <th>71</th>\n",
       "      <td>But what is the Fourier Transform?  A visual i...</td>\n",
       "      <td>2018-01-26</td>\n",
       "      <td>9154851</td>\n",
       "      <td>266353</td>\n",
       "      <td>8415</td>\n",
       "    </tr>\n",
       "    <tr>\n",
       "      <th>96</th>\n",
       "      <td>The essence of calculus</td>\n",
       "      <td>2017-04-28</td>\n",
       "      <td>7815565</td>\n",
       "      <td>218756</td>\n",
       "      <td>6487</td>\n",
       "    </tr>\n",
       "    <tr>\n",
       "      <th>56</th>\n",
       "      <td>But why is a sphere's surface area four times ...</td>\n",
       "      <td>2018-12-02</td>\n",
       "      <td>6968892</td>\n",
       "      <td>134209</td>\n",
       "      <td>4567</td>\n",
       "    </tr>\n",
       "    <tr>\n",
       "      <th>118</th>\n",
       "      <td>Vectors | Chapter 1, Essence of linear algebra</td>\n",
       "      <td>2016-08-06</td>\n",
       "      <td>6822248</td>\n",
       "      <td>135624</td>\n",
       "      <td>3009</td>\n",
       "    </tr>\n",
       "  </tbody>\n",
       "</table>\n",
       "</div>"
      ],
      "text/plain": [
       "                                                 Title Published_date  \\\n",
       "48   But what is a Fourier series?  From heat flow ...     2019-06-30   \n",
       "74             The hardest problem on the hardest test     2017-12-08   \n",
       "83                 But how does bitcoin actually work?     2017-07-07   \n",
       "78   But what is a neural network? | Chapter 1, Dee...     2017-10-05   \n",
       "55     The most unexpected answer to a counting puzzle     2019-01-13   \n",
       "12             Solving Wordle using information theory     2022-02-06   \n",
       "71   But what is the Fourier Transform?  A visual i...     2018-01-26   \n",
       "96                             The essence of calculus     2017-04-28   \n",
       "56   But why is a sphere's surface area four times ...     2018-12-02   \n",
       "118     Vectors | Chapter 1, Essence of linear algebra     2016-08-06   \n",
       "\n",
       "        Views   Likes  Comments  \n",
       "48   16569490  160035      3975  \n",
       "74   14913450  390487     20142  \n",
       "83   14907290  344974     28471  \n",
       "78   13983928  352546      6736  \n",
       "55   10836004  279226      5931  \n",
       "12    9730865  211006      8724  \n",
       "71    9154851  266353      8415  \n",
       "96    7815565  218756      6487  \n",
       "56    6968892  134209      4567  \n",
       "118   6822248  135624      3009  "
      ]
     },
     "execution_count": 38,
     "metadata": {},
     "output_type": "execute_result"
    }
   ],
   "source": [
    "top10_videos"
   ]
  },
  {
   "cell_type": "code",
   "execution_count": 39,
   "metadata": {},
   "outputs": [
    {
     "data": {
      "text/plain": [
       "Text(0.5, 1.0, 'Top 10 videos by views')"
      ]
     },
     "execution_count": 39,
     "metadata": {},
     "output_type": "execute_result"
    },
    {
     "data": {
      "image/png": "[encoded data removed]",
      "text/plain": [
       "<Figure size 640x480 with 1 Axes>"
      ]
     },
     "metadata": {},
     "output_type": "display_data"
    }
   ],
   "source": [
    "ax =  sns.barplot(x='Views', y='Title', data=top10_videos)\n",
    "plt.xlabel('Views in millions')\n",
    "plt.title('Top 10 videos by views')"
   ]
  },
  {
   "attachments": {},
   "cell_type": "markdown",
   "metadata": {},
   "source": [
    "#### Checking how many videos that channel has published monthly by adding extra column fot months"
   ]
  },
  {
   "cell_type": "code",
   "execution_count": 149,
   "metadata": {},
   "outputs": [],
   "source": [
    "videos_data['Month'] = pd.to_datetime(videos_data['Published_date']).dt.strftime('%b')"
   ]
  },
  {
   "cell_type": "code",
   "execution_count": 150,
   "metadata": {},
   "outputs": [
    {
     "data": {
      "text/html": [
       "<div>\n",
       "<style scoped>\n",
       "    .dataframe tbody tr th:only-of-type {\n",
       "        vertical-align: middle;\n",
       "    }\n",
       "\n",
       "    .dataframe tbody tr th {\n",
       "        vertical-align: top;\n",
       "    }\n",
       "\n",
       "    .dataframe thead th {\n",
       "        text-align: right;\n",
       "    }\n",
       "</style>\n",
       "<table border=\"1\" class=\"dataframe\">\n",
       "  <thead>\n",
       "    <tr style=\"text-align: right;\">\n",
       "      <th></th>\n",
       "      <th>Title</th>\n",
       "      <th>Published_date</th>\n",
       "      <th>Views</th>\n",
       "      <th>Likes</th>\n",
       "      <th>Comments</th>\n",
       "      <th>Month</th>\n",
       "    </tr>\n",
       "  </thead>\n",
       "  <tbody>\n",
       "    <tr>\n",
       "      <th>0</th>\n",
       "      <td>Why π is in the normal distribution (beyond in...</td>\n",
       "      <td>2023-04-02</td>\n",
       "      <td>964204</td>\n",
       "      <td>36922</td>\n",
       "      <td>1389</td>\n",
       "      <td>Apr</td>\n",
       "    </tr>\n",
       "    <tr>\n",
       "      <th>1</th>\n",
       "      <td>But what is the Central Limit Theorem?</td>\n",
       "      <td>2023-03-14</td>\n",
       "      <td>2149056</td>\n",
       "      <td>46623</td>\n",
       "      <td>1835</td>\n",
       "      <td>Mar</td>\n",
       "    </tr>\n",
       "    <tr>\n",
       "      <th>2</th>\n",
       "      <td>But what is a convolution?</td>\n",
       "      <td>2022-11-18</td>\n",
       "      <td>1762386</td>\n",
       "      <td>75764</td>\n",
       "      <td>2305</td>\n",
       "      <td>Nov</td>\n",
       "    </tr>\n",
       "    <tr>\n",
       "      <th>3</th>\n",
       "      <td>Researchers thought this was a bug (Borwein in...</td>\n",
       "      <td>2022-11-04</td>\n",
       "      <td>1826462</td>\n",
       "      <td>58220</td>\n",
       "      <td>1765</td>\n",
       "      <td>Nov</td>\n",
       "    </tr>\n",
       "    <tr>\n",
       "      <th>4</th>\n",
       "      <td>We ran a contest for math explainers, here are...</td>\n",
       "      <td>2022-10-01</td>\n",
       "      <td>693610</td>\n",
       "      <td>35958</td>\n",
       "      <td>1104</td>\n",
       "      <td>Oct</td>\n",
       "    </tr>\n",
       "    <tr>\n",
       "      <th>...</th>\n",
       "      <td>...</td>\n",
       "      <td>...</td>\n",
       "      <td>...</td>\n",
       "      <td>...</td>\n",
       "      <td>...</td>\n",
       "      <td>...</td>\n",
       "    </tr>\n",
       "    <tr>\n",
       "      <th>124</th>\n",
       "      <td>Euler's Formula and Graph Duality</td>\n",
       "      <td>2015-06-21</td>\n",
       "      <td>434787</td>\n",
       "      <td>10398</td>\n",
       "      <td>342</td>\n",
       "      <td>Jun</td>\n",
       "    </tr>\n",
       "    <tr>\n",
       "      <th>125</th>\n",
       "      <td>Circle Division Solution</td>\n",
       "      <td>2015-05-24</td>\n",
       "      <td>535768</td>\n",
       "      <td>16125</td>\n",
       "      <td>638</td>\n",
       "      <td>May</td>\n",
       "    </tr>\n",
       "    <tr>\n",
       "      <th>126</th>\n",
       "      <td>A Curious Pattern Indeed</td>\n",
       "      <td>2015-04-11</td>\n",
       "      <td>520658</td>\n",
       "      <td>10703</td>\n",
       "      <td>209</td>\n",
       "      <td>Apr</td>\n",
       "    </tr>\n",
       "    <tr>\n",
       "      <th>127</th>\n",
       "      <td>Euler's Formula Poem</td>\n",
       "      <td>2015-03-05</td>\n",
       "      <td>150313</td>\n",
       "      <td>4642</td>\n",
       "      <td>139</td>\n",
       "      <td>Mar</td>\n",
       "    </tr>\n",
       "    <tr>\n",
       "      <th>128</th>\n",
       "      <td>e to the pi i, a nontraditional take (old vers...</td>\n",
       "      <td>2015-03-05</td>\n",
       "      <td>2565086</td>\n",
       "      <td>40389</td>\n",
       "      <td>2089</td>\n",
       "      <td>Mar</td>\n",
       "    </tr>\n",
       "  </tbody>\n",
       "</table>\n",
       "<p>129 rows × 6 columns</p>\n",
       "</div>"
      ],
      "text/plain": [
       "                                                 Title Published_date  \\\n",
       "0    Why π is in the normal distribution (beyond in...     2023-04-02   \n",
       "1               But what is the Central Limit Theorem?     2023-03-14   \n",
       "2                           But what is a convolution?     2022-11-18   \n",
       "3    Researchers thought this was a bug (Borwein in...     2022-11-04   \n",
       "4    We ran a contest for math explainers, here are...     2022-10-01   \n",
       "..                                                 ...            ...   \n",
       "124                  Euler's Formula and Graph Duality     2015-06-21   \n",
       "125                           Circle Division Solution     2015-05-24   \n",
       "126                           A Curious Pattern Indeed     2015-04-11   \n",
       "127                               Euler's Formula Poem     2015-03-05   \n",
       "128  e to the pi i, a nontraditional take (old vers...     2015-03-05   \n",
       "\n",
       "       Views  Likes  Comments Month  \n",
       "0     964204  36922      1389   Apr  \n",
       "1    2149056  46623      1835   Mar  \n",
       "2    1762386  75764      2305   Nov  \n",
       "3    1826462  58220      1765   Nov  \n",
       "4     693610  35958      1104   Oct  \n",
       "..       ...    ...       ...   ...  \n",
       "124   434787  10398       342   Jun  \n",
       "125   535768  16125       638   May  \n",
       "126   520658  10703       209   Apr  \n",
       "127   150313   4642       139   Mar  \n",
       "128  2565086  40389      2089   Mar  \n",
       "\n",
       "[129 rows x 6 columns]"
      ]
     },
     "execution_count": 150,
     "metadata": {},
     "output_type": "execute_result"
    }
   ],
   "source": [
    "videos_data"
   ]
  },
  {
   "cell_type": "code",
   "execution_count": 151,
   "metadata": {},
   "outputs": [],
   "source": [
    "videos_per_month = videos_data.groupby('Month', as_index=False).size()"
   ]
  },
  {
   "cell_type": "code",
   "execution_count": 152,
   "metadata": {},
   "outputs": [
    {
     "data": {
      "text/html": [
       "<div>\n",
       "<style scoped>\n",
       "    .dataframe tbody tr th:only-of-type {\n",
       "        vertical-align: middle;\n",
       "    }\n",
       "\n",
       "    .dataframe tbody tr th {\n",
       "        vertical-align: top;\n",
       "    }\n",
       "\n",
       "    .dataframe thead th {\n",
       "        text-align: right;\n",
       "    }\n",
       "</style>\n",
       "<table border=\"1\" class=\"dataframe\">\n",
       "  <thead>\n",
       "    <tr style=\"text-align: right;\">\n",
       "      <th></th>\n",
       "      <th>Month</th>\n",
       "      <th>size</th>\n",
       "    </tr>\n",
       "  </thead>\n",
       "  <tbody>\n",
       "    <tr>\n",
       "      <th>0</th>\n",
       "      <td>Apr</td>\n",
       "      <td>16</td>\n",
       "    </tr>\n",
       "    <tr>\n",
       "      <th>1</th>\n",
       "      <td>Aug</td>\n",
       "      <td>16</td>\n",
       "    </tr>\n",
       "    <tr>\n",
       "      <th>2</th>\n",
       "      <td>Dec</td>\n",
       "      <td>9</td>\n",
       "    </tr>\n",
       "    <tr>\n",
       "      <th>3</th>\n",
       "      <td>Feb</td>\n",
       "      <td>4</td>\n",
       "    </tr>\n",
       "    <tr>\n",
       "      <th>4</th>\n",
       "      <td>Jan</td>\n",
       "      <td>6</td>\n",
       "    </tr>\n",
       "    <tr>\n",
       "      <th>5</th>\n",
       "      <td>Jul</td>\n",
       "      <td>8</td>\n",
       "    </tr>\n",
       "    <tr>\n",
       "      <th>6</th>\n",
       "      <td>Jun</td>\n",
       "      <td>7</td>\n",
       "    </tr>\n",
       "    <tr>\n",
       "      <th>7</th>\n",
       "      <td>Mar</td>\n",
       "      <td>12</td>\n",
       "    </tr>\n",
       "    <tr>\n",
       "      <th>8</th>\n",
       "      <td>May</td>\n",
       "      <td>21</td>\n",
       "    </tr>\n",
       "    <tr>\n",
       "      <th>9</th>\n",
       "      <td>Nov</td>\n",
       "      <td>11</td>\n",
       "    </tr>\n",
       "    <tr>\n",
       "      <th>10</th>\n",
       "      <td>Oct</td>\n",
       "      <td>9</td>\n",
       "    </tr>\n",
       "    <tr>\n",
       "      <th>11</th>\n",
       "      <td>Sep</td>\n",
       "      <td>10</td>\n",
       "    </tr>\n",
       "  </tbody>\n",
       "</table>\n",
       "</div>"
      ],
      "text/plain": [
       "   Month  size\n",
       "0    Apr    16\n",
       "1    Aug    16\n",
       "2    Dec     9\n",
       "3    Feb     4\n",
       "4    Jan     6\n",
       "5    Jul     8\n",
       "6    Jun     7\n",
       "7    Mar    12\n",
       "8    May    21\n",
       "9    Nov    11\n",
       "10   Oct     9\n",
       "11   Sep    10"
      ]
     },
     "execution_count": 152,
     "metadata": {},
     "output_type": "execute_result"
    }
   ],
   "source": [
    "videos_per_month"
   ]
  },
  {
   "attachments": {},
   "cell_type": "markdown",
   "metadata": {},
   "source": [
    "#### "
   ]
  },
  {
   "attachments": {},
   "cell_type": "markdown",
   "metadata": {},
   "source": [
    "#### Sorting by months as a categorical index"
   ]
  },
  {
   "cell_type": "code",
   "execution_count": 153,
   "metadata": {},
   "outputs": [],
   "source": [
    "sort_order = ['Jan', 'Feb', 'Mar', 'Apr', 'May', 'Jun', 'Jul', 'Aug', 'Sep', 'Oct', 'Nov', 'Dec']"
   ]
  },
  {
   "cell_type": "code",
   "execution_count": 155,
   "metadata": {},
   "outputs": [],
   "source": [
    "videos_per_month.index = pd.CategoricalIndex(videos_per_month['Month'],\n",
    "                                             categories=sort_order,\n",
    "                                             ordered=True)"
   ]
  },
  {
   "cell_type": "code",
   "execution_count": 158,
   "metadata": {},
   "outputs": [],
   "source": [
    "videos_per_month = videos_per_month.sort_index()"
   ]
  },
  {
   "cell_type": "code",
   "execution_count": 163,
   "metadata": {},
   "outputs": [
    {
     "data": {
      "text/plain": [
       "Text(0.5, 1.0, 'Videos per month')"
      ]
     },
     "execution_count": 163,
     "metadata": {},
     "output_type": "execute_result"
    },
    {
     "data": {
      "image/png": "[encoded data removed]",
      "text/plain": [
       "<Figure size 640x480 with 1 Axes>"
      ]
     },
     "metadata": {},
     "output_type": "display_data"
    }
   ],
   "source": [
    "ax = sns.barplot(x='Month', y='size', data=videos_per_month)\n",
    "plt.ylabel('Number of videos')\n",
    "plt.title('Videos per month')"
   ]
  },
  {
   "cell_type": "code",
   "execution_count": null,
   "metadata": {},
   "outputs": [],
   "source": []
  }
 ],
 "metadata": {
  "kernelspec": {
   "display_name": ".venv",
   "language": "python",
   "name": "python3"
  },
  "language_info": {
   "codemirror_mode": {
    "name": "ipython",
    "version": 3
   },
   "file_extension": ".py",
   "mimetype": "text/x-python",
   "name": "python",
   "nbconvert_exporter": "python",
   "pygments_lexer": "ipython3",
   "version": "3.10.10"
  },
  "orig_nbformat": 4
 },
 "nbformat": 4,
 "nbformat_minor": 2
}
